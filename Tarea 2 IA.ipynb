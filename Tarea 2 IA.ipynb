{
 "cells": [
  {
   "cell_type": "markdown",
   "id": "078a0d29",
   "metadata": {},
   "source": [
    "#### 1. Escriba una función  que reciba la fecha de nacimiento de un a persona y calcule la edad de la persona"
   ]
  },
  {
   "cell_type": "code",
   "execution_count": 9,
   "id": "e3c953c7",
   "metadata": {},
   "outputs": [],
   "source": [
    "from datetime import date\n",
    "def edad(A,M,D): \n",
    "    fecha_nac=date(A,M,D)\n",
    "    fecha_act = date.today() #Obtenemos la fecha actual mediante la función date.today()  \n",
    "    edad_act = fecha_act.year - fecha_nac.year - ((fecha_act.month, fecha_act.day) < (fecha_nac.month, fecha_nac.day)) #booleano para restar 0 o 1 dado el caso\n",
    "    return edad_act \n"
   ]
  },
  {
   "cell_type": "code",
   "execution_count": 11,
   "id": "ca7b24a1",
   "metadata": {},
   "outputs": [
    {
     "data": {
      "text/plain": [
       "66"
      ]
     },
     "execution_count": 11,
     "metadata": {},
     "output_type": "execute_result"
    }
   ],
   "source": [
    "edad(1956,3,24) #Probamos la función"
   ]
  },
  {
   "cell_type": "markdown",
   "id": "8a0cd2b2",
   "metadata": {},
   "source": [
    "#### 2. Crea una función EscribirCentrado, que reciba como parámetro un texto y lo escriba centrado en pantalla (suponiendo una anchura de 80 columnas; pista: deberás escribir 40 - longitud/2 espacios antes del texto)."
   ]
  },
  {
   "cell_type": "code",
   "execution_count": 14,
   "id": "0bc22340",
   "metadata": {},
   "outputs": [],
   "source": [
    "def EscribirCentrado(x):\n",
    "    texto=str(x)  #obtenemos la cadena de texto\n",
    "    tamaño=len(texto)   #obtenemos la longitud de la cadena de texto\n",
    "    tamaño=40 - tamaño/2  \n",
    "    print (texto.center(int(tamaño), \" \")) \n",
    "    \n"
   ]
  },
  {
   "cell_type": "code",
   "execution_count": 17,
   "id": "88b7fd44",
   "metadata": {},
   "outputs": [
    {
     "name": "stdout",
     "output_type": "stream",
     "text": [
      "             cargamento            \n"
     ]
    }
   ],
   "source": [
    "EscribirCentrado(\"cargamento\")"
   ]
  },
  {
   "cell_type": "markdown",
   "id": "51fc88e7",
   "metadata": {},
   "source": [
    "##### 3. Construya una función decorada que reciba un texto y lo escriba marcado con Markdown en itálica y resaltada (bold). Revise la lección de decoradores, no vista en clase.\n"
   ]
  },
  {
   "cell_type": "code",
   "execution_count": null,
   "id": "d0c29e98",
   "metadata": {},
   "outputs": [],
   "source": []
  },
  {
   "cell_type": "code",
   "execution_count": null,
   "id": "2be19590",
   "metadata": {},
   "outputs": [],
   "source": []
  },
  {
   "cell_type": "markdown",
   "id": "357b454a",
   "metadata": {},
   "source": [
    "##### 4.  Crea un programa que pida dos número enteros al usuario y diga si alguno de ellos es múltiplo del otro. \n"
   ]
  },
  {
   "cell_type": "code",
   "execution_count": 38,
   "id": "2d8a32fe",
   "metadata": {},
   "outputs": [],
   "source": [
    "def multiplo(a, b):\n",
    "    if a > b :\n",
    "        if a % b ==0 : # obtenemos el residuo de la división\n",
    "            print (\"b \" \" es múltiplo de \" \" a\")\n",
    "        else:\n",
    "            print (\"b\" \" No es múltiplo de \" \"a\")\n",
    "    else: \n",
    "        if b % a ==0 :\n",
    "            print (\"a \" \"es multiplo de \" \"b\")\n",
    "        else:\n",
    "            print (\"a \" \"no es múltiplo de \" \"b\")\n",
    "        "
   ]
  },
  {
   "cell_type": "code",
   "execution_count": 39,
   "id": "9ca54778",
   "metadata": {},
   "outputs": [
    {
     "name": "stdout",
     "output_type": "stream",
     "text": [
      "a es multiplo de b\n"
     ]
    }
   ],
   "source": [
    "multiplo(5,25)"
   ]
  },
  {
   "cell_type": "markdown",
   "id": "e427c612",
   "metadata": {},
   "source": [
    "##### 5. Crear una función re reciba una lista  de 24 valores de temperatura leída  hora en un día y que calcule la temperatura media  Cree una lista con 24 valores de temperatura de un día de Bogotá y pruebe su función. Invente los datos."
   ]
  },
  {
   "cell_type": "code",
   "execution_count": 49,
   "id": "5720b41e",
   "metadata": {},
   "outputs": [],
   "source": [
    "def temp_media (temp):\n",
    "       return(sum(temp)/len(temp))\n"
   ]
  },
  {
   "cell_type": "code",
   "execution_count": 50,
   "id": "f296c42b",
   "metadata": {},
   "outputs": [
    {
     "data": {
      "text/plain": [
       "12.5"
      ]
     },
     "execution_count": 50,
     "metadata": {},
     "output_type": "execute_result"
    }
   ],
   "source": [
    "temperatura =(1,2,3,4,5,6,7,8,9,10,11,12,13,14,15,16,17,18,19,20,21,22,23,24)\n",
    "temperatura = list(temperatura)\n",
    "temp_media(temperatura)"
   ]
  },
  {
   "cell_type": "markdown",
   "id": "7a773ffa",
   "metadata": {},
   "source": [
    "##### 5. Crea un función “ConvertirEspaciado”, que reciba como parámetro un texto y devuelve una cadena con un espacio adicional tras cada letra. Por ejemplo, “Hola, tú” devolverá “H o l a , t ú “.  Pruebe \n"
   ]
  },
  {
   "cell_type": "code",
   "execution_count": 52,
   "id": "18cdd80d",
   "metadata": {},
   "outputs": [],
   "source": [
    "def ConvertirEspaciado(x):\n",
    "    x = \"\".join(x.split())# une la cadena de texto\n",
    "    return(\" \".join(x))# interpone un espacio entre cada caracter de la cadena\n"
   ]
  },
  {
   "cell_type": "code",
   "execution_count": 54,
   "id": "927464af",
   "metadata": {},
   "outputs": [
    {
     "data": {
      "text/plain": [
       "'¿ c ó m o e s t a s ?'"
      ]
     },
     "execution_count": 54,
     "metadata": {},
     "output_type": "execute_result"
    }
   ],
   "source": [
    "ConvertirEspaciado(\"¿cómo estas?\")"
   ]
  },
  {
   "cell_type": "markdown",
   "id": "9651627e",
   "metadata": {},
   "source": [
    "##### 6. Crea una función “calcularMaxMin” que recibe una arreglo con valores numérico y devuelve el valor máximo y el mínimo. "
   ]
  },
  {
   "cell_type": "code",
   "execution_count": 55,
   "id": "e5fe570f",
   "metadata": {},
   "outputs": [],
   "source": [
    "def calcularMaxMin(arr):\n",
    "    return(max(arr),min(arr))\n",
    "\n"
   ]
  },
  {
   "cell_type": "code",
   "execution_count": 56,
   "id": "dd7025fb",
   "metadata": {},
   "outputs": [
    {
     "data": {
      "text/plain": [
       "(12, 2)"
      ]
     },
     "execution_count": 56,
     "metadata": {},
     "output_type": "execute_result"
    }
   ],
   "source": [
    "x=(2,4,5,6,12)\n",
    "calcularMaxMin(x)"
   ]
  },
  {
   "cell_type": "markdown",
   "id": "c3d66684",
   "metadata": {},
   "source": [
    "##### 7.  Diseñar una función que calcule el área y el perímetro de una circunferencia. "
   ]
  },
  {
   "cell_type": "code",
   "execution_count": 60,
   "id": "d1639301",
   "metadata": {},
   "outputs": [],
   "source": [
    "from math import pi\n",
    "def area_perim(r):\n",
    "    area=pi*r**2\n",
    "    perimetro=pi*r*2\n",
    "    return (\"Area= {} y Perimetro= {}\".format(area,perimetro))"
   ]
  },
  {
   "cell_type": "code",
   "execution_count": 61,
   "id": "8d67179f",
   "metadata": {},
   "outputs": [
    {
     "data": {
      "text/plain": [
       "'Area= 78.53981633974483 y Perimetro= 31.41592653589793'"
      ]
     },
     "execution_count": 61,
     "metadata": {},
     "output_type": "execute_result"
    }
   ],
   "source": [
    "area_perim(5)"
   ]
  },
  {
   "cell_type": "markdown",
   "id": "bfdaf3e5",
   "metadata": {},
   "source": [
    "##### 8. Crear una función  llamada “Login”, que recibe un nombre de usuario y una contraseña y devuelva Verdadero si el nombre de usuario es “usuario1” y la contraseña es “asdasd”. Además recibe el número de intentos que se ha intentado hacer login y si no se ha podido hacer login incremente este valor."
   ]
  },
  {
   "cell_type": "code",
   "execution_count": 70,
   "id": "e6d05a53",
   "metadata": {},
   "outputs": [],
   "source": [
    "def Login():\n",
    "    print(\"por favor ingrese el usuario\")\n",
    "    usuario =input(str())\n",
    "    print(\"por favor ingrese la contraseña\")\n",
    "    contraseña =input(str())\n",
    "    i=0\n",
    "    k=0\n",
    "    while i==0:\n",
    "        if usuario== \"usuario1\" and contraseña==\"asdasd\":\n",
    "            i=1\n",
    "            print(\"Verdadero\")\n",
    "            return(True)\n",
    "        else:\n",
    "            k=k+1\n",
    "            print(k)\n",
    "            print (\"por favor ingrese el usuario de nuevo\")\n",
    "            usuario=input(str())\n",
    "            print (\"por favor ingrese la contraseña\")\n",
    "            contraseña=input(str())\n",
    "            \n"
   ]
  },
  {
   "cell_type": "code",
   "execution_count": 71,
   "id": "33d6fa9f",
   "metadata": {},
   "outputs": [
    {
     "name": "stdout",
     "output_type": "stream",
     "text": [
      "por favor ingrese el usuario\n",
      "usuario1\n",
      "por favor ingrese la contraseña\n",
      "asdasd\n",
      "Verdadero\n"
     ]
    },
    {
     "data": {
      "text/plain": [
       "True"
      ]
     },
     "execution_count": 71,
     "metadata": {},
     "output_type": "execute_result"
    }
   ],
   "source": [
    "Login()"
   ]
  },
  {
   "cell_type": "markdown",
   "id": "a9bf1aac",
   "metadata": {},
   "source": [
    "##### 9. Crear una función recursiva que permita calcular el factorial de un número. Realiza un programa principal donde se lea un entero y se muestre el resultado del factorial. Revise la lección de funciones.\n"
   ]
  },
  {
   "cell_type": "code",
   "execution_count": 74,
   "id": "a8fbd067",
   "metadata": {},
   "outputs": [],
   "source": [
    "def factorial_rec(x):\n",
    "    if x == 0:\n",
    "        return 1\n",
    "    else:\n",
    "        return x * factorial_rec(x-1)\n"
   ]
  },
  {
   "cell_type": "code",
   "execution_count": 75,
   "id": "46631398",
   "metadata": {},
   "outputs": [
    {
     "data": {
      "text/plain": [
       "720"
      ]
     },
     "execution_count": 75,
     "metadata": {},
     "output_type": "execute_result"
    }
   ],
   "source": [
    "factorial_rec(6)"
   ]
  },
  {
   "cell_type": "markdown",
   "id": "b9f898f4",
   "metadata": {},
   "source": [
    "##### 10. Escribir dos funciones que permitan calcular:\n",
    "\n",
    "* La cantidad de segundos en un tiempo dado en horas, minutos y segundos.\n",
    "* La cantidad de horas, minutos y segundos de un tiempo dado en segundos"
   ]
  },
  {
   "cell_type": "code",
   "execution_count": 76,
   "id": "6a599346",
   "metadata": {},
   "outputs": [],
   "source": [
    "def cant_seg (horas, minutos, segundos):\n",
    "    return segundos + minutos*60 + horas*3600\n"
   ]
  },
  {
   "cell_type": "code",
   "execution_count": 77,
   "id": "740b46d4",
   "metadata": {},
   "outputs": [
    {
     "data": {
      "text/plain": [
       "3600"
      ]
     },
     "execution_count": 77,
     "metadata": {},
     "output_type": "execute_result"
    }
   ],
   "source": [
    "cant_seg(1,0,0)"
   ]
  },
  {
   "cell_type": "code",
   "execution_count": 78,
   "id": "293daed2",
   "metadata": {},
   "outputs": [],
   "source": [
    "def cant_horas (horas,minutos,segundos):\n",
    "    return horas + minutos/60 + segundos/3600"
   ]
  },
  {
   "cell_type": "code",
   "execution_count": 79,
   "id": "ac4654d6",
   "metadata": {},
   "outputs": [
    {
     "data": {
      "text/plain": [
       "2.5"
      ]
     },
     "execution_count": 79,
     "metadata": {},
     "output_type": "execute_result"
    }
   ],
   "source": [
    "cant_horas(2,28,120)"
   ]
  },
  {
   "cell_type": "markdown",
   "id": "a80570d1",
   "metadata": {},
   "source": [
    "#####  11. Crea una función  que lea una tupla, invierta los valores de la tupla y regrese una nueva tupla invirtiendo los valores. Recuerde que las tuplas son inmutables."
   ]
  },
  {
   "cell_type": "code",
   "execution_count": 91,
   "id": "8381e75d",
   "metadata": {},
   "outputs": [],
   "source": [
    "def inv_tupla (*x):\n",
    "    tupla=tuple(x)\n",
    "    lista=list(tupla)\n",
    "    lista=(reversed(lista))\n",
    "    tupla=tuple(lista)\n",
    "    return tupla\n"
   ]
  },
  {
   "cell_type": "code",
   "execution_count": 92,
   "id": "26f0496e",
   "metadata": {},
   "outputs": [
    {
     "data": {
      "text/plain": [
       "((2, 3, 4),)"
      ]
     },
     "execution_count": 92,
     "metadata": {},
     "output_type": "execute_result"
    }
   ],
   "source": [
    "x=(2,3,4)\n",
    "inv_tupla(x)"
   ]
  },
  {
   "cell_type": "markdown",
   "id": "057a47c8",
   "metadata": {},
   "source": [
    "##### 12. Escriba una función que lea una lista y calcule la media geométrica de sus valores, usando funtools.reduce."
   ]
  },
  {
   "cell_type": "code",
   "execution_count": null,
   "id": "4bcedb4b",
   "metadata": {},
   "outputs": [],
   "source": []
  },
  {
   "cell_type": "code",
   "execution_count": null,
   "id": "42bb225a",
   "metadata": {},
   "outputs": [],
   "source": []
  }
 ],
 "metadata": {
  "kernelspec": {
   "display_name": "Python 3 (ipykernel)",
   "language": "python",
   "name": "python3"
  },
  "language_info": {
   "codemirror_mode": {
    "name": "ipython",
    "version": 3
   },
   "file_extension": ".py",
   "mimetype": "text/x-python",
   "name": "python",
   "nbconvert_exporter": "python",
   "pygments_lexer": "ipython3",
   "version": "3.9.13"
  }
 },
 "nbformat": 4,
 "nbformat_minor": 5
}
